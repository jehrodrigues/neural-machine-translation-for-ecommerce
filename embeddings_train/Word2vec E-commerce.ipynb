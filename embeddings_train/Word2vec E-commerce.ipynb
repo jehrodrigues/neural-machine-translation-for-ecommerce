{
 "cells": [
  {
   "cell_type": "code",
   "execution_count": 1,
   "metadata": {},
   "outputs": [],
   "source": [
    "from gensim.models import KeyedVectors"
   ]
  },
  {
   "cell_type": "code",
   "execution_count": 2,
   "metadata": {},
   "outputs": [],
   "source": [
    "outp = \"./model/word2vec_s300.txt\""
   ]
  },
  {
   "cell_type": "code",
   "execution_count": 3,
   "metadata": {},
   "outputs": [],
   "source": [
    "model = KeyedVectors.load_word2vec_format(outp, unicode_errors=\"ignore\")"
   ]
  },
  {
   "cell_type": "code",
   "execution_count": 4,
   "metadata": {},
   "outputs": [
    {
     "name": "stdout",
     "output_type": "stream",
     "text": [
      "Vocabulary Size: 13340\n"
     ]
    }
   ],
   "source": [
    "print(\"Vocabulary Size: {0}\".format(len(model.vocab)))"
   ]
  },
  {
   "cell_type": "code",
   "execution_count": 29,
   "metadata": {},
   "outputs": [
    {
     "name": "stdout",
     "output_type": "stream",
     "text": [
      "[('bocas', 0.8353638052940369), ('piacere', 0.8125423192977905), ('56spb', 0.8008817434310913), ('gemini', 0.7929874658584595), ('bfd5q', 0.7893726825714111), ('piso', 0.7872327566146851), ('celebrate', 0.7857018709182739), ('d&d', 0.7821583151817322), ('220v/2000w', 0.7786619067192078), ('anti-aderente', 0.7771563529968262)]\n"
     ]
    }
   ],
   "source": [
    "print(model.most_similar(positive=['fogão']))"
   ]
  },
  {
   "cell_type": "code",
   "execution_count": 30,
   "metadata": {},
   "outputs": [
    {
     "name": "stdout",
     "output_type": "stream",
     "text": [
      "[('un49k6500agxzd', 0.7268356084823608), ('49k5300', 0.7043079137802124), ('32phg5201', 0.7014779448509216), ('ph32b51dsgw', 0.7005323171615601), ('kdl-32w655d', 0.6975746154785156), ('le39s5970', 0.6975147724151611), ('85s9a', 0.6969109177589417), ('ph39n91dsgwa', 0.6937355995178223), ('kd-49x705e', 0.6904672384262085), ('le43u7970', 0.6896060705184937)]\n"
     ]
    }
   ],
   "source": [
    "print(model.most_similar(positive=['tv', 'smart']))"
   ]
  },
  {
   "cell_type": "code",
   "execution_count": 31,
   "metadata": {},
   "outputs": [
    {
     "name": "stdout",
     "output_type": "stream",
     "text": [
      "[('anti-aderente', 0.7713844180107117), ('220v/2000w', 0.7708860039710999), ('forno', 0.7636778354644775), ('vitrocerâmico', 0.7541730999946594), ('fogao', 0.7512781023979187), ('gemini', 0.7445025444030762), ('bf150', 0.743821382522583), ('gril', 0.7414067983627319), ('fogareiro', 0.7364957332611084), ('56spb', 0.7332467436790466)]\n"
     ]
    }
   ],
   "source": [
    "print(model.most_similar(positive=['fogão', 'elétrico']))"
   ]
  },
  {
   "cell_type": "code",
   "execution_count": 14,
   "metadata": {},
   "outputs": [
    {
     "name": "stdout",
     "output_type": "stream",
     "text": [
      "[('redmi', 0.9148910641670227), ('mi', 0.8899564146995544), ('4a', 0.7771074771881104), ('a1', 0.7646507024765015), ('6.4', 0.7546528577804565), ('5.99', 0.7464581727981567), ('4x', 0.740189254283905), ('curvada', 0.7382369041442871), ('note', 0.7211536169052124), ('5a', 0.7140043377876282)]\n"
     ]
    }
   ],
   "source": [
    "print(model.most_similar(positive=['xiaomi']))"
   ]
  },
  {
   "cell_type": "code",
   "execution_count": 32,
   "metadata": {},
   "outputs": [
    {
     "name": "stdout",
     "output_type": "stream",
     "text": [
      "[('eau', 0.9522315859794617), ('toilette', 0.9317653775215149), ('parfum', 0.9062602519989014), ('100ml', 0.8982540369033813), ('pour', 0.8427132964134216), ('homme', 0.8378080725669861), ('edp', 0.8365055918693542), ('edt', 0.8207072019577026), ('bourbon', 0.8195773363113403), ('lapidus', 0.8194791078567505)]\n"
     ]
    }
   ],
   "source": [
    "print(model.most_similar(positive=['perfume']))"
   ]
  },
  {
   "cell_type": "code",
   "execution_count": 33,
   "metadata": {},
   "outputs": [
    {
     "name": "stdout",
     "output_type": "stream",
     "text": [
      "[('cologne', 0.9881892800331116), ('vapo', 0.9860919713973999), ('ted', 0.9831497073173523), ('ulric', 0.9819315671920776), ('jacques', 0.9817864298820496), (\"d'issey\", 0.9809929132461548), ('café-café', 0.9800671339035034), ('eternity', 0.9791245460510254), ('azzaro', 0.9787453413009644), ('dior', 0.978477954864502)]\n"
     ]
    }
   ],
   "source": [
    "print(model.most_similar(positive=['versace']))"
   ]
  },
  {
   "cell_type": "code",
   "execution_count": 34,
   "metadata": {},
   "outputs": [
    {
     "name": "stdout",
     "output_type": "stream",
     "text": [
      "[('givenchy', 0.9154089689254761), ('bourbon', 0.910973310470581), ('pour', 0.9098389148712158), ('miss', 0.905856728553772), ('edp', 0.9040491580963135), ('jacques', 0.9022423028945923), ('leau', 0.9022345542907715), ('spears', 0.9006710052490234), ('cologne', 0.8994224667549133), ('sabatini', 0.8993209600448608)]\n"
     ]
    }
   ],
   "source": [
    "print(model.most_similar(positive=['versace', 'feminino']))"
   ]
  },
  {
   "cell_type": "code",
   "execution_count": 25,
   "metadata": {},
   "outputs": [
    {
     "name": "stdout",
     "output_type": "stream",
     "text": [
      "[('pour', 0.9094675779342651), ('leau', 0.9063279628753662), ('toillete', 0.9044575691223145), ('lapidus', 0.8993486762046814), ('issey', 0.8987817764282227), (\"l'eau\", 0.8979865312576294), ('miyake', 0.8978508114814758), ('jacques', 0.8976342678070068), (\"d'issey\", 0.896686315536499), ('ted', 0.8963299989700317)]\n"
     ]
    }
   ],
   "source": [
    "print(model.most_similar(positive=['versace', 'masculino']))"
   ]
  },
  {
   "cell_type": "code",
   "execution_count": 35,
   "metadata": {},
   "outputs": [
    {
     "name": "stdout",
     "output_type": "stream",
     "text": [
      "[('udv', 0.8347325325012207), ('toillete', 0.8276337385177612), ('ralph', 0.8268356323242188), (\"d'issey\", 0.8251891136169434), ('giorgio', 0.8235958218574524), ('azzaro', 0.8221375942230225), ('lauren', 0.8211442232131958), ('antonio', 0.8211069107055664), ('ulric', 0.8198022842407227), ('banderas', 0.8190580606460571)]\n"
     ]
    }
   ],
   "source": [
    "print(model.most_similar(positive=['versace', 'masculino'], negative=['feminino']))"
   ]
  },
  {
   "cell_type": "code",
   "execution_count": 36,
   "metadata": {},
   "outputs": [
    {
     "name": "stdout",
     "output_type": "stream",
     "text": [
      "[('miss', 0.8498592972755432), ('givenchy', 0.8476741313934326), ('100ml-', 0.8450530767440796), ('bourbon', 0.8446877002716064), ('jennifer', 0.8431405425071716), ('pergolese', 0.8416010737419128), ('amarige', 0.8393381834030151), ('belle', 0.8392816185951233), ('grès', 0.8371292352676392), ('spears', 0.8365036249160767)]\n"
     ]
    }
   ],
   "source": [
    "print(model.most_similar(positive=['versace', 'feminino'], negative=['masculino']))"
   ]
  },
  {
   "cell_type": "code",
   "execution_count": 28,
   "metadata": {},
   "outputs": [
    {
     "name": "stdout",
     "output_type": "stream",
     "text": [
      "[('s7', 0.6976744532585144), ('s2', 0.6016496419906616), ('j7', 0.6006296277046204), ('6.3', 0.5883360505104065), ('s8', 0.5852619409561157), ('tim', 0.5810738801956177), ('5.6', 0.5727033019065857), ('1.6ghz', 0.568418025970459), ('note', 0.5674608945846558), ('standing', 0.5644718408584595)]\n"
     ]
    }
   ],
   "source": [
    "print(model.most_similar(positive=['galaxy', 'edge'], negative=['modelo']))"
   ]
  },
  {
   "cell_type": "code",
   "execution_count": null,
   "metadata": {},
   "outputs": [],
   "source": []
  }
 ],
 "metadata": {
  "kernelspec": {
   "display_name": "Python 2",
   "language": "python",
   "name": "python2"
  },
  "language_info": {
   "codemirror_mode": {
    "name": "ipython",
    "version": 3
   },
   "file_extension": ".py",
   "mimetype": "text/x-python",
   "name": "python",
   "nbconvert_exporter": "python",
   "pygments_lexer": "ipython3",
   "version": "3.6.8"
  }
 },
 "nbformat": 4,
 "nbformat_minor": 2
}
